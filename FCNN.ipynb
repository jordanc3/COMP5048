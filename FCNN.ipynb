{
 "cells": [
  {
   "cell_type": "markdown",
   "metadata": {},
   "source": [
    "This is an implementation of an extremely simple NN intended only to predict the contents of a tile given no other information to leverage."
   ]
  },
  {
   "cell_type": "markdown",
   "metadata": {
    "heading_collapsed": true
   },
   "source": [
    "# Import Modules and Run Dependencies"
   ]
  },
  {
   "cell_type": "markdown",
   "metadata": {
    "hidden": true
   },
   "source": [
    "## Data Loaders and Handlers"
   ]
  },
  {
   "cell_type": "code",
   "execution_count": 1,
   "metadata": {
    "hidden": true
   },
   "outputs": [],
   "source": [
    "%run './Loading Dataset and Preprocess.ipynb'"
   ]
  },
  {
   "cell_type": "code",
   "execution_count": 2,
   "metadata": {
    "hidden": true
   },
   "outputs": [],
   "source": [
    "import numpy as np\n",
    "import torch  # pytorch for neural network\n",
    "from matplotlib import pyplot as plt  # basic plotting"
   ]
  },
  {
   "cell_type": "markdown",
   "metadata": {
    "hidden": true
   },
   "source": [
    "## Modules"
   ]
  },
  {
   "cell_type": "markdown",
   "metadata": {},
   "source": [
    "# Define Fully Connected Neural Network"
   ]
  },
  {
   "cell_type": "markdown",
   "metadata": {},
   "source": [
    "## Network Architecture"
   ]
  },
  {
   "cell_type": "code",
   "execution_count": 113,
   "metadata": {
    "lines_to_end_of_cell_marker": 0,
    "lines_to_next_cell": 1
   },
   "outputs": [],
   "source": [
    "# Currently has 2 hidden layers of size 50\n",
    "\n",
    "# possible labels: (B, W) X (K,Q,R,N,P,B) + E \\in P^{13}\n",
    "# probability vector of length 13\n",
    "class FullyConnectedNN(torch.nn.Module):\n",
    "\n",
    "    def __init__(self, image_dims, learning_rate=.1, momentum=0.9):\n",
    "        super(FullyConnectedNN, self).__init__()\n",
    "        color = len(image_dims) == 3\n",
    "        self.model = torch.nn.Sequential(\n",
    "            torch.nn.Linear(np.product(image_dims), 50),\n",
    "            torch.nn.Sigmoid(),\n",
    "            torch.nn.Linear(50, 13)\n",
    "        )\n",
    "        self.criterion = torch.nn.CrossEntropyLoss()\n",
    "        self.optimizer = torch.optim.SGD(self.parameters(),\n",
    "                                         lr=learning_rate,\n",
    "                                         momentum=momentum)\n",
    "\n",
    "    def forward(self, x):\n",
    "        return torch.softmax(self.model(x), dim=1)\n",
    "\n",
    "    def get_loss(self, X, Y):\n",
    "        out = self.model(X)\n",
    "        return self.criterion(out, Y)\n",
    "    \n",
    "    def predict(self, X):\n",
    "        probs = torch.nn.Softmax(dim=1)(self.forward(X))\n",
    "        return torch.argmax(X, dim=1)"
   ]
  },
  {
   "cell_type": "code",
   "execution_count": 114,
   "metadata": {},
   "outputs": [],
   "source": [
    "def prepare_batch_for_FCNN(batch, label_index):\n",
    "    \"\"\"Prepare a batch for the NN\"\"\"\n",
    "    tiles = tileify(*batch)\n",
    "    X = []\n",
    "    Y = []\n",
    "    for tile in tiles:\n",
    "        X.append(tile.image)\n",
    "        Y.append(label_index.index(\n",
    "            tile.piece_color + tile.piece_label))\n",
    "    return torch.Tensor(X).view(\n",
    "        -1, np.product(tile_size) * 3).float(), torch.Tensor(Y).long()"
   ]
  },
  {
   "cell_type": "markdown",
   "metadata": {},
   "source": [
    "# Demonstration"
   ]
  },
  {
   "cell_type": "markdown",
   "metadata": {},
   "source": [
    "Here, we will demonstrate the usage of this network."
   ]
  },
  {
   "cell_type": "code",
   "execution_count": 115,
   "metadata": {},
   "outputs": [],
   "source": [
    "from itertools import repeat"
   ]
  },
  {
   "cell_type": "code",
   "execution_count": 116,
   "metadata": {},
   "outputs": [],
   "source": [
    "nbatches = 10\n",
    "color = True\n",
    "resize = 80, 80\n",
    "sample_size = 1  # sample size for training\n",
    "progress_sample_index = np.arange(300)\n",
    "\n",
    "original_size = 400, 400\n",
    "\n",
    "tile_size = np.array(resize) // (8, 8)\n",
    "\n",
    "label_index = [a + b for a in 'WB' for b in 'KQRNPB'] + ['']\n",
    "# possible labels: (B, W) X (K,Q,R,N,P,B) + E \\in P^{13}\n",
    "\n",
    "network = FullyConnectedNN(\n",
    "    (*tile_size, 3)\n",
    ")\n",
    "\n",
    "indexset = np.arange(sample_size)\n"
   ]
  },
  {
   "cell_type": "code",
   "execution_count": 117,
   "metadata": {},
   "outputs": [],
   "source": [
    "optimizer = network.optimizer\n",
    "epochs = []"
   ]
  },
  {
   "cell_type": "code",
   "execution_count": 121,
   "metadata": {},
   "outputs": [],
   "source": [
    "# define function to track progress\n",
    "def progress(net):\n",
    "    # run on sample of test set\n",
    "    correct_train = 0\n",
    "    loss_train = 0\n",
    "    n_train = 0\n",
    "    correct_test = 0\n",
    "    loss_test = 0\n",
    "    n_test = 0\n",
    "    \n",
    "    # test accuracy\n",
    "    for X, Y in map(prepare_batch_for_FCNN,\n",
    "                    batched_load(test=True, count=len(progress_sample_index),\n",
    "                                 color=color, dsize=resize, batchsize=100,\n",
    "                                 idxset=progress_sample_index),\n",
    "                    repeat(label_index)\n",
    "                   ):\n",
    "        preds = network.predict(X).numpy()\n",
    "        true = Y.numpy()\n",
    "        correct_test += (preds == true).sum()\n",
    "        n_test += len(true)\n",
    "        loss_test += network.get_loss(X, Y).item() * len(X)\n",
    "        \n",
    "    # train accuracy\n",
    "    for X, Y in map(prepare_batch_for_FCNN,\n",
    "                    batched_load(test=False, count=len(indexset),\n",
    "                                 color=color, dsize=resize, batchsize=100,\n",
    "                                 idxset=indexset),\n",
    "                    repeat(label_index)\n",
    "                   ):\n",
    "        preds = network.predict(X).numpy()\n",
    "        true = Y.numpy()\n",
    "        correct_train += (preds == true).sum()\n",
    "        n_train += len(true)\n",
    "        loss_train += network.get_loss(X, Y).item() * len(X)\n",
    "        \n",
    "    # save results\n",
    "    epochs.append((\n",
    "        correct_train / n_train,  # train accuracy\n",
    "        correct_test / n_test,  # test accuracy\n",
    "        loss_train / n_train,  # training loss\n",
    "        loss_test / n_test,  # testing loss\n",
    "    ))\n",
    "    \n",
    "    print(f'\\nepoch {len(epochs)} finished.')\n",
    "    if (len(epochs) - 1) % 10 == 0 or True:\n",
    "        plt.title('Progress (test and train accuracy)')\n",
    "        for series in np.array(epochs).T:\n",
    "            plt.plot(series)\n",
    "        plt.legend([\n",
    "            'train accuracy', 'test accuracy',\n",
    "            'train loss', 'test loss'\n",
    "        ])\n",
    "        plt.show()\n",
    "#progress(network)"
   ]
  },
  {
   "cell_type": "code",
   "execution_count": 122,
   "metadata": {
    "scrolled": false
   },
   "outputs": [
    {
     "name": "stdout",
     "output_type": "stream",
     "text": [
      "-461.254638671875\n",
      "batch 0\n",
      "epoch 21 finished.\n"
     ]
    },
    {
     "data": {
      "image/png": "[encoded data removed]",
      "text/plain": [
       "<Figure size 432x288 with 1 Axes>"
      ]
     },
     "metadata": {
      "needs_background": "light"
     },
     "output_type": "display_data"
    },
    {
     "name": "stdout",
     "output_type": "stream",
     "text": [
      "-517.056884765625\n",
      "batch 0\n",
      "epoch 22 finished.\n"
     ]
    },
    {
     "data": {
      "image/png": "[encoded data removed]",
      "text/plain": [
       "<Figure size 432x288 with 1 Axes>"
      ]
     },
     "metadata": {
      "needs_background": "light"
     },
     "output_type": "display_data"
    },
    {
     "name": "stdout",
     "output_type": "stream",
     "text": [
      "-573.65673828125\n",
      "batch 0\r"
     ]
    },
    {
     "ename": "KeyboardInterrupt",
     "evalue": "",
     "output_type": "error",
     "traceback": [
      "\u001b[0;31m---------------------------------------------------------------------------\u001b[0m",
      "\u001b[0;31mKeyboardInterrupt\u001b[0m                         Traceback (most recent call last)",
      "\u001b[0;32m<ipython-input-122-456e59355df7>\u001b[0m in \u001b[0;36m<module>\u001b[0;34m\u001b[0m\n\u001b[1;32m     25\u001b[0m         \u001b[0mprint\u001b[0m\u001b[0;34m(\u001b[0m\u001b[0;34mf'batch {i}'\u001b[0m\u001b[0;34m,\u001b[0m \u001b[0mend\u001b[0m\u001b[0;34m=\u001b[0m\u001b[0;34m'\\r'\u001b[0m\u001b[0;34m)\u001b[0m\u001b[0;34m\u001b[0m\u001b[0;34m\u001b[0m\u001b[0m\n\u001b[1;32m     26\u001b[0m \u001b[0;34m\u001b[0m\u001b[0m\n\u001b[0;32m---> 27\u001b[0;31m     \u001b[0mprogress\u001b[0m\u001b[0;34m(\u001b[0m\u001b[0mnetwork\u001b[0m\u001b[0;34m)\u001b[0m\u001b[0;34m\u001b[0m\u001b[0;34m\u001b[0m\u001b[0m\n\u001b[0m",
      "\u001b[0;32m<ipython-input-121-66d3a7c857f8>\u001b[0m in \u001b[0;36mprogress\u001b[0;34m(net)\u001b[0m\n\u001b[1;32m     23\u001b[0m \u001b[0;34m\u001b[0m\u001b[0m\n\u001b[1;32m     24\u001b[0m     \u001b[0;31m# train accuracy\u001b[0m\u001b[0;34m\u001b[0m\u001b[0;34m\u001b[0m\u001b[0;34m\u001b[0m\u001b[0m\n\u001b[0;32m---> 25\u001b[0;31m     for X, Y in map(prepare_batch_for_FCNN,\n\u001b[0m\u001b[1;32m     26\u001b[0m                     batched_load(test=False, count=len(indexset),\n\u001b[1;32m     27\u001b[0m                                  \u001b[0mcolor\u001b[0m\u001b[0;34m=\u001b[0m\u001b[0mcolor\u001b[0m\u001b[0;34m,\u001b[0m \u001b[0mdsize\u001b[0m\u001b[0;34m=\u001b[0m\u001b[0mresize\u001b[0m\u001b[0;34m,\u001b[0m \u001b[0mbatchsize\u001b[0m\u001b[0;34m=\u001b[0m\u001b[0;36m100\u001b[0m\u001b[0;34m,\u001b[0m\u001b[0;34m\u001b[0m\u001b[0;34m\u001b[0m\u001b[0m\n",
      "\u001b[0;32m<ipython-input-1-a7bea9cc72bd>\u001b[0m in \u001b[0;36mbatched_load\u001b[0;34m(test, count, idxset, color, dsize, batchsize)\u001b[0m\n\u001b[1;32m     14\u001b[0m     \u001b[0mret_idx\u001b[0m \u001b[0;34m=\u001b[0m \u001b[0mnp\u001b[0m\u001b[0;34m.\u001b[0m\u001b[0mrandom\u001b[0m\u001b[0;34m.\u001b[0m\u001b[0mchoice\u001b[0m\u001b[0;34m(\u001b[0m\u001b[0midxset\u001b[0m\u001b[0;34m,\u001b[0m \u001b[0msize\u001b[0m\u001b[0;34m=\u001b[0m\u001b[0mcount\u001b[0m\u001b[0;34m,\u001b[0m \u001b[0mreplace\u001b[0m\u001b[0;34m=\u001b[0m\u001b[0;32mFalse\u001b[0m\u001b[0;34m)\u001b[0m\u001b[0;34m\u001b[0m\u001b[0;34m\u001b[0m\u001b[0m\n\u001b[1;32m     15\u001b[0m     \u001b[0;32mwhile\u001b[0m \u001b[0mlen\u001b[0m\u001b[0;34m(\u001b[0m\u001b[0mret_idx\u001b[0m\u001b[0;34m)\u001b[0m \u001b[0;34m>\u001b[0m \u001b[0;36m0\u001b[0m\u001b[0;34m:\u001b[0m\u001b[0;34m\u001b[0m\u001b[0;34m\u001b[0m\u001b[0m\n\u001b[0;32m---> 16\u001b[0;31m         \u001b[0mX\u001b[0m\u001b[0;34m,\u001b[0m \u001b[0mY\u001b[0m\u001b[0;34m,\u001b[0m \u001b[0midx_new\u001b[0m \u001b[0;34m=\u001b[0m \u001b[0mload_dataset\u001b[0m\u001b[0;34m(\u001b[0m\u001b[0mtest\u001b[0m\u001b[0;34m,\u001b[0m \u001b[0mbatchsize\u001b[0m\u001b[0;34m,\u001b[0m \u001b[0mret_idx\u001b[0m\u001b[0;34m,\u001b[0m \u001b[0;32mTrue\u001b[0m\u001b[0;34m,\u001b[0m \u001b[0mcolor\u001b[0m\u001b[0;34m,\u001b[0m \u001b[0mdsize\u001b[0m\u001b[0;34m)\u001b[0m\u001b[0;34m\u001b[0m\u001b[0;34m\u001b[0m\u001b[0m\n\u001b[0m\u001b[1;32m     17\u001b[0m         \u001b[0mret_idx\u001b[0m \u001b[0;34m=\u001b[0m \u001b[0mnp\u001b[0m\u001b[0;34m.\u001b[0m\u001b[0msetdiff1d\u001b[0m\u001b[0;34m(\u001b[0m\u001b[0mret_idx\u001b[0m\u001b[0;34m,\u001b[0m \u001b[0midx_new\u001b[0m\u001b[0;34m)\u001b[0m\u001b[0;34m\u001b[0m\u001b[0;34m\u001b[0m\u001b[0m\n\u001b[1;32m     18\u001b[0m \u001b[0;34m\u001b[0m\u001b[0m\n",
      "\u001b[0;32m<ipython-input-1-a3c3459b5a4f>\u001b[0m in \u001b[0;36mload_dataset\u001b[0;34m(test, count, idxset, return_indexes, color, dsize)\u001b[0m\n\u001b[1;32m     32\u001b[0m         \u001b[0mp\u001b[0m \u001b[0;34m/=\u001b[0m \u001b[0;34m'train'\u001b[0m\u001b[0;34m\u001b[0m\u001b[0;34m\u001b[0m\u001b[0m\n\u001b[1;32m     33\u001b[0m     \u001b[0;32massert\u001b[0m \u001b[0mp\u001b[0m\u001b[0;34m.\u001b[0m\u001b[0mexists\u001b[0m\u001b[0;34m(\u001b[0m\u001b[0;34m)\u001b[0m\u001b[0;34m,\u001b[0m \u001b[0;34m'the dataset could not be found. Expected location: '\u001b[0m \u001b[0;34m+\u001b[0m \u001b[0mstr\u001b[0m\u001b[0;34m(\u001b[0m\u001b[0mp\u001b[0m\u001b[0;34m.\u001b[0m\u001b[0mparent\u001b[0m\u001b[0;34m.\u001b[0m\u001b[0mresolve\u001b[0m\u001b[0;34m(\u001b[0m\u001b[0;34m)\u001b[0m\u001b[0;34m)\u001b[0m\u001b[0;34m\u001b[0m\u001b[0;34m\u001b[0m\u001b[0m\n\u001b[0;32m---> 34\u001b[0;31m     \u001b[0mdirs\u001b[0m \u001b[0;34m=\u001b[0m \u001b[0mnp\u001b[0m\u001b[0;34m.\u001b[0m\u001b[0marray\u001b[0m\u001b[0;34m(\u001b[0m\u001b[0mlist\u001b[0m\u001b[0;34m(\u001b[0m\u001b[0msorted\u001b[0m\u001b[0;34m(\u001b[0m\u001b[0mp\u001b[0m\u001b[0;34m.\u001b[0m\u001b[0miterdir\u001b[0m\u001b[0;34m(\u001b[0m\u001b[0;34m)\u001b[0m\u001b[0;34m)\u001b[0m\u001b[0;34m)\u001b[0m\u001b[0;34m)\u001b[0m\u001b[0;34m\u001b[0m\u001b[0;34m\u001b[0m\u001b[0m\n\u001b[0m\u001b[1;32m     35\u001b[0m \u001b[0;34m\u001b[0m\u001b[0m\n\u001b[1;32m     36\u001b[0m     \u001b[0;31m# draw sample\u001b[0m\u001b[0;34m\u001b[0m\u001b[0;34m\u001b[0m\u001b[0;34m\u001b[0m\u001b[0m\n",
      "\u001b[0;32m/usr/lib/python3.8/pathlib.py\u001b[0m in \u001b[0;36m__lt__\u001b[0;34m(self, other)\u001b[0m\n\u001b[1;32m    769\u001b[0m         \u001b[0;32mif\u001b[0m \u001b[0;32mnot\u001b[0m \u001b[0misinstance\u001b[0m\u001b[0;34m(\u001b[0m\u001b[0mother\u001b[0m\u001b[0;34m,\u001b[0m \u001b[0mPurePath\u001b[0m\u001b[0;34m)\u001b[0m \u001b[0;32mor\u001b[0m \u001b[0mself\u001b[0m\u001b[0;34m.\u001b[0m\u001b[0m_flavour\u001b[0m \u001b[0;32mis\u001b[0m \u001b[0;32mnot\u001b[0m \u001b[0mother\u001b[0m\u001b[0;34m.\u001b[0m\u001b[0m_flavour\u001b[0m\u001b[0;34m:\u001b[0m\u001b[0;34m\u001b[0m\u001b[0;34m\u001b[0m\u001b[0m\n\u001b[1;32m    770\u001b[0m             \u001b[0;32mreturn\u001b[0m \u001b[0mNotImplemented\u001b[0m\u001b[0;34m\u001b[0m\u001b[0;34m\u001b[0m\u001b[0m\n\u001b[0;32m--> 771\u001b[0;31m         \u001b[0;32mreturn\u001b[0m \u001b[0mself\u001b[0m\u001b[0;34m.\u001b[0m\u001b[0m_cparts\u001b[0m \u001b[0;34m<\u001b[0m \u001b[0mother\u001b[0m\u001b[0;34m.\u001b[0m\u001b[0m_cparts\u001b[0m\u001b[0;34m\u001b[0m\u001b[0;34m\u001b[0m\u001b[0m\n\u001b[0m\u001b[1;32m    772\u001b[0m \u001b[0;34m\u001b[0m\u001b[0m\n\u001b[1;32m    773\u001b[0m     \u001b[0;32mdef\u001b[0m \u001b[0m__le__\u001b[0m\u001b[0;34m(\u001b[0m\u001b[0mself\u001b[0m\u001b[0;34m,\u001b[0m \u001b[0mother\u001b[0m\u001b[0;34m)\u001b[0m\u001b[0;34m:\u001b[0m\u001b[0;34m\u001b[0m\u001b[0;34m\u001b[0m\u001b[0m\n",
      "\u001b[0;31mKeyboardInterrupt\u001b[0m: "
     ]
    }
   ],
   "source": [
    "#epochs = []\n",
    "for epochi in range(10):\n",
    "    for i, (X, Y) in enumerate(#enumerate(range(1))):\n",
    "        map(prepare_batch_for_FCNN,\n",
    "            batched_load(count=sample_size, color=True, dsize=resize,\n",
    "                            batchsize=3000, idxset=indexset),\n",
    "            repeat(label_index))):\n",
    "        X = torch.Tensor(\n",
    "            np.concatenate((\n",
    "                np.ones((400, np.product(tile_size) * 3)),\n",
    "                np.zeros((400, np.product(tile_size) * 3))\n",
    "            ), axis=0)\n",
    "        ).float()\n",
    "        Y = torch.Tensor(\n",
    "            np.concatenate((\n",
    "                np.ones(400),\n",
    "                np.zeros(400)\n",
    "            ), axis=0)\n",
    "        ).long()\n",
    "        optimizer.zero_grad()\n",
    "        loss = network.get_loss(X, Y)\n",
    "        loss.backward()\n",
    "        print(loss.item())\n",
    "        optimizer.step()\n",
    "        print(f'batch {i}', end='\\r')\n",
    "        \n",
    "    progress(network)"
   ]
  },
  {
   "cell_type": "code",
   "execution_count": 124,
   "metadata": {},
   "outputs": [
    {
     "data": {
      "text/plain": [
       "array([[0.        , 0.        , 0.        , 0.        , 0.        ,\n",
       "        0.        , 0.        , 0.        , 0.        , 0.        ,\n",
       "        0.        , 0.        , 0.        , 0.        , 0.        ,\n",
       "        0.        , 0.        , 0.        , 0.        , 0.        ,\n",
       "        0.        , 0.        ],\n",
       "       [0.00161458, 0.00161458, 0.00161458, 0.00161458, 0.00161458,\n",
       "        0.00161458, 0.00161458, 0.00161458, 0.00161458, 0.00161458,\n",
       "        0.00161458, 0.00161458, 0.00161458, 0.00161458, 0.00161458,\n",
       "        0.00161458, 0.00161458, 0.00161458, 0.00161458, 0.00161458,\n",
       "        0.00161458, 0.00161458]])"
      ]
     },
     "execution_count": 124,
     "metadata": {},
     "output_type": "execute_result"
    }
   ],
   "source": [
    "np.array(epochs).T[:2]"
   ]
  },
  {
   "cell_type": "code",
   "execution_count": null,
   "metadata": {},
   "outputs": [],
   "source": []
  }
 ],
 "metadata": {
  "kernelspec": {
   "display_name": "Python 3",
   "language": "python",
   "name": "python3"
  },
  "language_info": {
   "codemirror_mode": {
    "name": "ipython",
    "version": 3
   },
   "file_extension": ".py",
   "mimetype": "text/x-python",
   "name": "python",
   "nbconvert_exporter": "python",
   "pygments_lexer": "ipython3",
   "version": "3.8.5"
  },
  "toc": {
   "base_numbering": 1,
   "nav_menu": {},
   "number_sections": true,
   "sideBar": true,
   "skip_h1_title": false,
   "title_cell": "Table of Contents",
   "title_sidebar": "Contents",
   "toc_cell": false,
   "toc_position": {},
   "toc_section_display": true,
   "toc_window_display": false
  }
 },
 "nbformat": 4,
 "nbformat_minor": 4
}
