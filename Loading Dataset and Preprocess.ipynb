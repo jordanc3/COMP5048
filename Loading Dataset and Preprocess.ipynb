{
 "cells": [
  {
   "cell_type": "code",
   "execution_count": null,
   "metadata": {},
   "outputs": [],
   "source": [
    "import numpy as np\n",
    "import cv2\n",
    "import matplotlib.pyplot as plt\n",
    "import re\n",
    "from collections import namedtuple\n",
    "from pathlib import Path\n",
    "from multiprocessing import Pool\n",
    "from sklearn.metrics import confusion_matrix\n",
    "\n",
    "RUN_DEMONSTRATION = True"
   ]
  },
  {
   "cell_type": "markdown",
   "metadata": {},
   "source": [
    "# Machinery"
   ]
  },
  {
   "cell_type": "markdown",
   "metadata": {},
   "source": [
    "## split a chess board into its squares"
   ]
  },
  {
   "cell_type": "code",
   "execution_count": null,
   "metadata": {},
   "outputs": [],
   "source": [
    "def split_chessboard(board_image):\n",
    "    '''Split a single image of a chess board into its respective squares.\n",
    "    \n",
    "    Take in chess board (n*8 x m*8 x 3 / n*8 x m*8 color / greyscale image) and output an ndarray of\n",
    "    the pieces (8 x 8 x n x m x 3 / 8 x 8 x n x m) such that result[0, 1] is the 0,1th tile of the chess board.\n",
    "    (0 is the column, 1 is the row)\n",
    "    \n",
    "    Handles both greyscale and color.\n",
    "    '''\n",
    "    assert board_image.shape[0] % 8 == 0, 'the width of the image is not divisible by 8'\n",
    "    assert board_image.shape[1] % 8 == 0, 'the height of the image is not divisible by 8'\n",
    "    # shape to reshape the image to\n",
    "    reshape = [8, board_image.shape[0]//8, 8, board_image.shape[1]//8]\n",
    "    # order of axes to re-arrange to\n",
    "    transpose = [0, 2, 1, 3]\n",
    "    # handle colour\n",
    "    if len(board_image.shape) == 3:\n",
    "        reshape.append(3)  # needs the extra dimension with 3 color channels\n",
    "        transpose.append(len(transpose))  # dimension stays at the end\n",
    "    return board_image.reshape(*reshape).transpose(transpose)\n"
   ]
  },
  {
   "cell_type": "markdown",
   "metadata": {},
   "source": [
    "## Get the label\n",
    "given a row, column and string of the chess boards positioning (FEN description) of the chess board, return the piece code.\n",
    "\n",
    "Overview of the representation:\n",
    "the first part of the string denotes "
   ]
  },
  {
   "cell_type": "code",
   "execution_count": null,
   "metadata": {},
   "outputs": [],
   "source": [
    "def get_position(fen, row, column, delim='-'):\n",
    "    ''' returns a string representing the piece. one or Three parts:\n",
    "    1. B/W = black or white square\n",
    "    2. B/W = black or white piece, no more characters if no piece.\n",
    "    3. piece key or doesnt exist if blank. (same encoding as white pieces in FEN)\n",
    "    \n",
    "    pawn = \"P\"\n",
    "    knight = \"N\"\n",
    "    bishop = \"B\"\n",
    "    rook = \"R\"\n",
    "    queen = \"Q\"\n",
    "    king = \"K\"\n",
    "    '''\n",
    "    assert isinstance(column, int), f'column must be an integer. Got {column}'\n",
    "    assert isinstance(row, int), f'row must be an integer. Got {row}'\n",
    "    square_color = 'W' if ((column + row) % 2) == 0 else 'B'\n",
    "    col_pos = 0\n",
    "    \n",
    "    # col_pos always points to the correct position for the current character. \n",
    "    for char in fen.split(delim)[row]:\n",
    "        if char in '12345678':  # empty spaces (cannot be larger then 8)\n",
    "            if col_pos == column:  # this was the correct position\n",
    "                return square_color\n",
    "            col_pos += int(char)  # the next position is offset by this many\n",
    "            continue  # this position is completed, move on to the next one\n",
    "        if column == col_pos:\n",
    "            piece_color = 'B' if char.islower() else 'W'\n",
    "            return square_color + piece_color + char.upper()\n",
    "        col_pos += 1\n",
    "    return square_color"
   ]
  },
  {
   "cell_type": "markdown",
   "metadata": {},
   "source": [
    "## Cleanly split a board into its squares and their images, positions and labels"
   ]
  },
  {
   "cell_type": "code",
   "execution_count": null,
   "metadata": {
    "scrolled": true
   },
   "outputs": [],
   "source": [
    "Tile = namedtuple('Tile', ['image', 'row', 'column', 'background_color', 'piece_color', 'piece_label'])\n",
    "def make_data(board, name):\n",
    "    out = []\n",
    "    ims = split_chessboard(board)\n",
    "    for row in range(8):\n",
    "        for column in range(8):\n",
    "            lab = get_position(name, row, column)\n",
    "            has_piece = len(lab) > 1\n",
    "            piece_color = lab[1] if has_piece else ''\n",
    "            piece_label = lab[2] if has_piece else ''\n",
    "            out.append(Tile(ims[row, column], row, column, lab[0], piece_color, piece_label))\n",
    "    return out"
   ]
  },
  {
   "cell_type": "markdown",
   "metadata": {},
   "source": [
    "## Load the whole dataset"
   ]
  },
  {
   "cell_type": "code",
   "execution_count": null,
   "metadata": {},
   "outputs": [],
   "source": [
    "def load_dataset(test=False, count=None, idxset=None, return_indexes=False, color=True, dsize=None):\n",
    "    '''Loads a chunk of the dataset.\n",
    "    \n",
    "    Default loads the entire test/train dataset. (this will likely crash the machine)\n",
    "    \n",
    "    :param test: flag - load the test or train dataset (default train)\n",
    "    :param count: int - number of examples to load\n",
    "    :param idxset: set[int] - legal indexes to load\n",
    "    :param return_indexes: flag - if true, returns the indexes as the last element of the returned tuple\n",
    "    :param color: flag - load the images in color\n",
    "    :param dsize: (int, int) - load the images and resize them to this size\n",
    "        Both ints must be divisible by 8\n",
    "    :return: Images, Labels [, indexes]\n",
    "    '''\n",
    "    max_idx = max(idxset) if idxset is not None else count - 1 if count is not None else None\n",
    "    # make sure index requested is legal\n",
    "    if test:\n",
    "        assert count is None or max_idx <= 20000, (f'There are only 20000 images in the test set.'\n",
    "                                  f' Highest index requested was {max_idx}')\n",
    "    else:\n",
    "        assert count is None or max_idx <= 80000, (f'There are only 80000 images in the train set.'\n",
    "                                  f' Highest index requested was {max_idx}')\n",
    "    # make sure destination size is legal\n",
    "    if dsize is not None:\n",
    "        assert np.all((np.array(dsize) % 8) == 0), f'Must be divisible by 8 on all resize dimensions. Got {dsize}'\n",
    "    \n",
    "    # construct the paths to images\n",
    "    p = Path('dataset')\n",
    "    if test:\n",
    "        p /= 'test'\n",
    "    else:\n",
    "        p /= 'train'\n",
    "    assert p.exists(), 'the dataset could not be found. Expected location: ' + str(p.parent.resolve())\n",
    "    dirs = np.array(list(sorted(p.iterdir())))\n",
    "    \n",
    "    # draw sample\n",
    "    if count is not None:\n",
    "        if idxset is not None:\n",
    "            idxset = np.array(list(idxset))\n",
    "            if count <= len(idxset):\n",
    "                idxs = np.random.choice(idxset, count, replace=False)\n",
    "            else:\n",
    "                idxs = idxset\n",
    "        else:\n",
    "            idxs = np.random.choice(dirs.shape[0], count, replace=False)\n",
    "        sample = dirs[idxs]\n",
    "    else:\n",
    "        sample = dirs\n",
    "        idxs = np.arange(dirs.shape[0])\n",
    "    \n",
    "    # load all images\n",
    "    Y = []\n",
    "    X = []\n",
    "    for imagepath in sample:\n",
    "        Y.append(imagepath.stem)  # FEN string\n",
    "        \n",
    "        # set the correct flag to handle grey/color images\n",
    "        flag = cv2.IMREAD_UNCHANGED\n",
    "        if color:\n",
    "            flag = cv2.IMREAD_COLOR\n",
    "        else:\n",
    "            flag = cv2.IMREAD_GRAYSCALE\n",
    "        # load the file\n",
    "        image = cv2.imread(str(imagepath), flag)\n",
    "        \n",
    "        # resize the image if necessary\n",
    "        if dsize is not None:\n",
    "            X.append(cv2.resize(image, dsize))\n",
    "        else:\n",
    "            X.append(image)\n",
    "    \n",
    "    if return_indexes:\n",
    "        return X, Y, idxs\n",
    "    else:\n",
    "        return X, Y"
   ]
  },
  {
   "cell_type": "markdown",
   "metadata": {},
   "source": [
    "## Generator to batch-load the dataset"
   ]
  },
  {
   "cell_type": "markdown",
   "metadata": {},
   "source": [
    "This allows for the whole dataset to be used even though it doesnt fit into memory."
   ]
  },
  {
   "cell_type": "code",
   "execution_count": null,
   "metadata": {},
   "outputs": [],
   "source": [
    "def batched_load(test=False,\n",
    "                 count=None,\n",
    "                 idxset=None,\n",
    "                 color=True,\n",
    "                 dsize=None,\n",
    "                 batchsize=int(5e2)):\n",
    "    '''load the dataset and yield it in batches of size batchsize.\n",
    "    '''\n",
    "    if idxset is None:\n",
    "        if count is None:\n",
    "            idxset = np.arange(20000 if test else 80000, dtype=int)\n",
    "        else:\n",
    "            idxset = np.random.choice(20000 if test else 80000, size=count, replace=False)\n",
    "    ret_idx = np.random.choice(idxset, size=count, replace=False)\n",
    "    while len(ret_idx) > 0:\n",
    "        X, Y, idx_new = load_dataset(test, batchsize, ret_idx, True, color, dsize)\n",
    "        ret_idx = np.setdiff1d(ret_idx, idx_new)\n",
    "        \n",
    "        yield X, Y"
   ]
  },
  {
   "cell_type": "markdown",
   "metadata": {},
   "source": [
    "# Demonstration"
   ]
  },
  {
   "cell_type": "code",
   "execution_count": null,
   "metadata": {},
   "outputs": [],
   "source": [
    "if RUN_DEMONSTRATION:\n",
    "    im = cv2.imread('./1B1N4-7k-1rP4N-1b6-6n1-5n2-2Q1K2P-r2B4.jpeg')\n",
    "    label='1B1N4-7k-1rP4N-1b6-6n1-5n2-2Q1K2P-r2B4'\n",
    "    plt.imshow(im)\n",
    "    im.shape"
   ]
  },
  {
   "cell_type": "markdown",
   "metadata": {
    "heading_collapsed": true
   },
   "source": [
    "## Extract one"
   ]
  },
  {
   "cell_type": "code",
   "execution_count": null,
   "metadata": {
    "hidden": true
   },
   "outputs": [],
   "source": [
    "if RUN_DEMONSTRATION:\n",
    "    plt.subplot(131)\n",
    "    plt.title('with color, downscaled')\n",
    "    plt.imshow(split_chessboard(cv2.resize(im, (200, 200)))[0, 1])\n",
    "    plt.subplot(132)\n",
    "    plt.title('without color')\n",
    "    plt.imshow(split_chessboard(cv2.cvtColor(im, cv2.COLOR_BGR2GRAY))[0, 1], cmap='Greys_r')\n",
    "    plt.subplot(133)\n",
    "    plt.title('without color, downscaled')\n",
    "    plt.imshow(split_chessboard(cv2.cvtColor(cv2.resize(im, (200, 200)), cv2.COLOR_BGR2GRAY))[0, 1], cmap='Greys_r')\n",
    "    plt.show()"
   ]
  },
  {
   "cell_type": "markdown",
   "metadata": {
    "heading_collapsed": true
   },
   "source": [
    "## Entire Board in B&W, scaled down"
   ]
  },
  {
   "cell_type": "code",
   "execution_count": null,
   "metadata": {
    "hidden": true,
    "scrolled": false
   },
   "outputs": [],
   "source": [
    "if RUN_DEMONSTRATION:\n",
    "    bw = cv2.resize(cv2.cvtColor(im, cv2.COLOR_BGR2GRAY), (200, 200))\n",
    "    plt.figure(figsize=(15, 15))\n",
    "    for tile in make_data(bw, label):\n",
    "        plt.subplot(8,8,tile.row * 8 + tile.column + 1)\n",
    "        plt.title(f'{tile[1:]}')\n",
    "        plt.imshow(tile.image, cmap='Greys_r', vmin=0, vmax=255)\n",
    "        plt.axis('off')"
   ]
  },
  {
   "cell_type": "code",
   "execution_count": null,
   "metadata": {
    "hidden": true,
    "scrolled": false
   },
   "outputs": [],
   "source": [
    "if RUN_DEMONSTRATION:\n",
    "    plt.figure(figsize=(15, 15))\n",
    "    for tile in make_data(cv2.cvtColor(im, cv2.COLOR_BGR2GRAY), label):\n",
    "        plt.subplot(8,8,tile.row * 8 + tile.column + 1)\n",
    "        plt.title(f'{tile[1:]}')\n",
    "        plt.imshow(tile.image, cmap='Greys_r', vmin=0, vmax=255)\n",
    "        plt.axis('off')"
   ]
  },
  {
   "cell_type": "markdown",
   "metadata": {},
   "source": [
    "## Load Batched Sample of Dataset"
   ]
  },
  {
   "cell_type": "markdown",
   "metadata": {},
   "source": [
    "only take a sample of 3 with batchsize of 2\n",
    "should output 2 batches, first with 2 boards and second with 1.\n",
    "\n",
    "Also downsize images and make them black and white (downsize to 80, 80)"
   ]
  },
  {
   "cell_type": "code",
   "execution_count": null,
   "metadata": {},
   "outputs": [],
   "source": [
    "if RUN_DEMONSTRATION:\n",
    "    batches = list(batched_load(count=3, batchsize=2, dsize=(80, 80), color=False))\n",
    "    print(f'batch[0] has {len(batches[0][0])} observations.')\n",
    "    print(f'batch[1] has {len(batches[1][0])} observations.')\n",
    "    for batchn, (X, Y) in enumerate(batches):\n",
    "        for i, x in enumerate(X):\n",
    "            plt.title(f'batch={batchn} obs={i}')\n",
    "            plt.imshow(x, cmap='Greys_r')\n",
    "            plt.show()\n",
    "    \n",
    "        "
   ]
  },
  {
   "cell_type": "code",
   "execution_count": null,
   "metadata": {},
   "outputs": [],
   "source": []
  },
  {
   "cell_type": "code",
   "execution_count": null,
   "metadata": {},
   "outputs": [],
   "source": []
  }
 ],
 "metadata": {
  "kernelspec": {
   "display_name": "Python 3",
   "language": "python",
   "name": "python3"
  },
  "language_info": {
   "codemirror_mode": {
    "name": "ipython",
    "version": 3
   },
   "file_extension": ".py",
   "mimetype": "text/x-python",
   "name": "python",
   "nbconvert_exporter": "python",
   "pygments_lexer": "ipython3",
   "version": "3.8.5"
  },
  "toc": {
   "base_numbering": 1,
   "nav_menu": {},
   "number_sections": true,
   "sideBar": true,
   "skip_h1_title": false,
   "title_cell": "Table of Contents",
   "title_sidebar": "Contents",
   "toc_cell": false,
   "toc_position": {},
   "toc_section_display": true,
   "toc_window_display": false
  }
 },
 "nbformat": 4,
 "nbformat_minor": 4
}
